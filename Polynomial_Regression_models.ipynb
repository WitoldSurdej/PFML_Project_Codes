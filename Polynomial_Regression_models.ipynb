{
  "nbformat": 4,
  "nbformat_minor": 0,
  "metadata": {
    "colab": {
      "provenance": []
    },
    "kernelspec": {
      "name": "python3",
      "display_name": "Python 3"
    },
    "language_info": {
      "name": "python"
    }
  },
  "cells": [
    {
      "cell_type": "markdown",
      "source": [
        "***Data Prep***"
      ],
      "metadata": {
        "id": "knoF4UTcRRte"
      }
    },
    {
      "cell_type": "code",
      "execution_count": null,
      "metadata": {
        "id": "WBnMRbpJRJ2a"
      },
      "outputs": [],
      "source": [
        "#basic modules\n",
        "import pandas as pd\n",
        "import sklearn as sk\n",
        "import numpy as np\n",
        "from sklearn.model_selection import train_test_split\n",
        "from sklearn.preprocessing import MinMaxScaler\n",
        "from sklearn.metrics import mean_squared_error\n",
        "import matplotlib.pyplot as plt\n",
        "\n",
        "#regression model\n",
        "from sklearn.preprocessing import PolynomialFeatures\n",
        "from sklearn.linear_model import LinearRegression\n",
        "\n",
        "#performance indicators\n",
        "from sklearn.metrics import mean_squared_error\n",
        "from sklearn.metrics import r2_score\n",
        "\n",
        "# save numpy array as csv file\n",
        "from numpy import asarray\n",
        "from numpy import savetxt\n",
        "from google.colab import files"
      ]
    },
    {
      "cell_type": "code",
      "source": [
        "df_august = pd.read_csv('https://raw.githubusercontent.com/WitoldSurdej/PFML/master/apartments_pl_2023_08.csv')\n",
        "df_september = pd.read_csv('https://raw.githubusercontent.com/WitoldSurdej/PFML/master/apartments_pl_2023_09.csv')\n",
        "df_october = pd.read_csv('https://raw.githubusercontent.com/WitoldSurdej/PFML/master/apartments_pl_2023_10.csv')"
      ],
      "metadata": {
        "id": "-H1PQU39RP7w"
      },
      "execution_count": null,
      "outputs": []
    },
    {
      "cell_type": "code",
      "source": [
        "df_august['Month'] = 0\n",
        "df_september['Month'] = 1\n",
        "df_october['Month'] = 2"
      ],
      "metadata": {
        "id": "83Dgk8JERVVj"
      },
      "execution_count": null,
      "outputs": []
    },
    {
      "cell_type": "code",
      "source": [
        "frames = [df_august, df_september, df_october]\n",
        "df = pd.concat(frames)"
      ],
      "metadata": {
        "id": "UvOBBGbfRXS8"
      },
      "execution_count": null,
      "outputs": []
    },
    {
      "cell_type": "code",
      "source": [
        "df_live, df_backup = train_test_split(df,test_size=0.3, random_state=42)"
      ],
      "metadata": {
        "id": "cCsOuG6JRcmN"
      },
      "execution_count": null,
      "outputs": []
    },
    {
      "cell_type": "code",
      "source": [
        "num_cols = df_live.select_dtypes([np.number]).columns\n",
        "df_nums = df_live[num_cols].reset_index(drop=True)\n",
        "\n",
        "# Dropping rows which contain missing values\n",
        "df_clean = df_nums.dropna()"
      ],
      "metadata": {
        "id": "VrMvo__CRfwQ"
      },
      "execution_count": null,
      "outputs": []
    },
    {
      "cell_type": "code",
      "source": [
        "X = df_clean.loc[:,df_nums.columns != 'price']\n",
        "y = df_clean['price'].values"
      ],
      "metadata": {
        "id": "ZTLcyha7RhOU"
      },
      "execution_count": null,
      "outputs": []
    },
    {
      "cell_type": "code",
      "source": [
        "scaler = MinMaxScaler()\n",
        "X_normalized = scaler.fit_transform(X)\n",
        "X_normalized_df = pd.DataFrame(X_normalized, columns=X.columns)\n",
        "X_normalized_df_no_nan = X_normalized_df.dropna(axis=0)"
      ],
      "metadata": {
        "id": "Uy-Ev_V-Rix6"
      },
      "execution_count": null,
      "outputs": []
    },
    {
      "cell_type": "code",
      "source": [
        "selected_columns_2 = ['squareMeters', 'longitude']\n",
        "selected_columns_3 = ['squareMeters', 'longitude', 'poiCount']\n",
        "selected_columns_5 = ['squareMeters', 'longitude', 'poiCount', 'rooms', 'centreDistance']\n",
        "selected_columns_7 = ['squareMeters', 'longitude', 'poiCount', 'rooms', 'centreDistance', 'clinicDistance', 'kindergartenDistance']\n",
        "\n",
        "X2=X_normalized_df[selected_columns_2]\n",
        "X3=X_normalized_df[selected_columns_3]\n",
        "X5=X_normalized_df[selected_columns_5]\n",
        "X7=X_normalized_df[selected_columns_7]"
      ],
      "metadata": {
        "id": "H7_LLRN_Rm34"
      },
      "execution_count": null,
      "outputs": []
    },
    {
      "cell_type": "markdown",
      "source": [
        "***Regression***"
      ],
      "metadata": {
        "id": "LEyziPD_Rrrw"
      }
    },
    {
      "cell_type": "code",
      "source": [
        "#parameters\n",
        "degree = [2,3,5,7]\n",
        "dataToChoose = [X2,X3,X5,X7]\n",
        "r_values = 1 #repetitions\n",
        "random_state_main = 42 #main random state\n",
        "\n",
        "#creating arrays to save data\n",
        "RMSE_saved_in_each_iter = [[[0 for _ in range(r_values)] for _ in range(len(dataToChoose))] for _ in range(len(degree))]\n",
        "R2_score_in_each_iter = [[[0 for _ in range(r_values)] for _ in range(len(dataToChoose))] for _ in range(len(degree))]\n",
        "coefficients_in_each_iter = [[[0 for _ in range(r_values)] for _ in range(len(dataToChoose))] for _ in range(len(degree))]\n",
        "state_in_each_iter = [[[0 for _ in range(r_values)] for _ in range(len(dataToChoose))] for _ in range(len(degree))]"
      ],
      "metadata": {
        "id": "oyZ-9ncJRqt7"
      },
      "execution_count": null,
      "outputs": []
    },
    {
      "cell_type": "code",
      "source": [
        "def FitPolynomial(degree, dataToChoose, r_values, random_state_main):\n",
        "\n",
        "\n",
        "  #main loop\n",
        "  for k in range(r_values):\n",
        "    for i in range(len(degree)):\n",
        "      for j in range(len(dataToChoose)):\n",
        "\n",
        "\n",
        "        #creating our polynomial features. We want to test different number of features for each of the 4 different nb of degrees\n",
        "        poly2 = PolynomialFeatures(degree=degree[i], include_bias=True)\n",
        "\n",
        "        #fitting the data into a model and transforming it into a form that is more suitable for the model\n",
        "        poly_features = poly2.fit_transform(dataToChoose[j])\n",
        "\n",
        "        #splitting the data\n",
        "        X_train, X_test, y_train, y_test = train_test_split(poly_features, y, test_size=0.2, random_state=random_state_main)\n",
        "        X1_train1, X1_validation, y1_train1, y1_validation = train_test_split(X_train, y_train, test_size = 0.3, random_state=random_state_main)\n",
        "\n",
        "        #creating and fitting the model\n",
        "        poly_reg_model = LinearRegression(fit_intercept=True)\n",
        "        poly_reg_model.fit(X_train, y_train)\n",
        "\n",
        "        #testing the results\n",
        "        poly_reg_y_predicted = poly_reg_model.predict(X1_validation)\n",
        "        poly_reg_rmse = np.sqrt(mean_squared_error(y1_validation, poly_reg_y_predicted))\n",
        "\n",
        "        #saving the data into arrays\n",
        "        RMSE_saved_in_each_iter[i][j][k]=poly_reg_rmse\n",
        "        R2_score_in_each_iter[i][j][k]=r2_score(poly_reg_y_predicted, y1_validation)\n",
        "        coefficients_in_each_iter[i][j][k] = poly_reg_model.coef_\n",
        "        state_in_each_iter[i][j][k] = random_state_main\n",
        "\n",
        "  #returning output\n",
        "  return RMSE_saved_in_each_iter, R2_score_in_each_iter, coefficients_in_each_iter, state_in_each_iter"
      ],
      "metadata": {
        "id": "lwvVHpeeSBJi"
      },
      "execution_count": null,
      "outputs": []
    },
    {
      "cell_type": "code",
      "source": [
        "result1, result2, result3, result4 = FitPolynomial([2,3,5,7], [X2,X3,X5,X7], 1, 42)\n",
        "# print(result1)\n",
        "# print(result2)\n",
        "# print(result3)\n",
        "# print(result4)"
      ],
      "metadata": {
        "id": "b2Mw4YPVSG9A"
      },
      "execution_count": null,
      "outputs": []
    },
    {
      "cell_type": "code",
      "source": [
        "#averaging the results (transforming 4x4x10 into 4x4 with each value beaing a mean of the 10 previously in the k dimmension)\n",
        "average_RMSE = np.mean(RMSE_saved_in_each_iter, axis=2)\n",
        "average_R2_score = np.mean(R2_score_in_each_iter, axis=2)"
      ],
      "metadata": {
        "id": "Ep3iJc5ESPpc"
      },
      "execution_count": null,
      "outputs": []
    },
    {
      "cell_type": "markdown",
      "source": [
        "***Saving the results***"
      ],
      "metadata": {
        "id": "jg2hJF82WsKt"
      }
    },
    {
      "cell_type": "code",
      "source": [
        "#saving results so we don't have to rerun everything\n",
        "#savetxt('/content/R2_score_mean.csv', average_R2_score, delimiter=',')\n",
        "#files.download('/content/R2_score_mean.csv')\n",
        "#savetxt('/content/average_RMSE.csv', average_RMSE, delimiter=',')\n",
        "#files.download('/content/average_RMSE.csv')"
      ],
      "metadata": {
        "id": "RpNCHdpnSSbw"
      },
      "execution_count": null,
      "outputs": []
    },
    {
      "cell_type": "markdown",
      "source": [
        "***Heat map***"
      ],
      "metadata": {
        "id": "SXLAEE_mSbCK"
      }
    },
    {
      "cell_type": "code",
      "source": [
        "# Plotting average RMSE\n",
        "plt.figure(figsize=(8, 6))\n",
        "plt.imshow(average_RMSE, cmap='viridis', aspect='auto')\n",
        "plt.colorbar(label='Average RMSE')\n",
        "plt.xlabel('Dataset')\n",
        "plt.ylabel('Degree')\n",
        "plt.title('Average RMSE across Degrees and Datasets')\n",
        "plt.xticks(np.arange(len(dataToChoose)), ['X2', 'X3', 'X5', 'X7'])\n",
        "plt.yticks(np.arange(len(degree)), degree)\n",
        "plt.show()\n",
        "\n",
        "# Plotting average R2 score\n",
        "plt.figure(figsize=(8, 6))\n",
        "plt.imshow(average_R2_score, cmap='viridis', aspect='auto')\n",
        "plt.colorbar(label='Average R2 Score')\n",
        "plt.xlabel('Dataset')\n",
        "plt.ylabel('Degree')\n",
        "plt.title('Average R2 Score across Degrees and Datasets')\n",
        "plt.xticks(np.arange(len(dataToChoose)), ['X2', 'X3', 'X5', 'X7'])\n",
        "plt.yticks(np.arange(len(degree)), degree)\n",
        "plt.show()"
      ],
      "metadata": {
        "id": "y-HL9mfLSXOM",
        "colab": {
          "base_uri": "https://localhost:8080/",
          "height": 1000
        },
        "outputId": "9249389f-6bb8-4704-dd4f-02ebea2713b5"
      },
      "execution_count": null,
      "outputs": [
        {
          "output_type": "display_data",
          "data": {
            "text/plain": [
              "<Figure size 800x600 with 2 Axes>"
            ],
            "image/png": "[encoded data removed]"
          },
          "metadata": {}
        },
        {
          "output_type": "display_data",
          "data": {
            "text/plain": [
              "<Figure size 800x600 with 2 Axes>"
            ],
            "image/png": "[encoded data removed]"
          },
          "metadata": {}
        }
      ]
    },
    {
      "cell_type": "markdown",
      "source": [
        "***Extracting informations from statistical data***"
      ],
      "metadata": {
        "id": "9KeamlG6Sgj5"
      }
    },
    {
      "cell_type": "code",
      "source": [
        "#finding idexes of the min and max of RMSE matrix\n",
        "\n",
        "#converting to NumPy array\n",
        "RMSE_saved_in_each_iter_num = np.array(RMSE_saved_in_each_iter)\n",
        "\n",
        "min_index_RMSE = np.unravel_index(np.argmin(RMSE_saved_in_each_iter_num), RMSE_saved_in_each_iter_num.shape)\n",
        "max_index_RMSE = np.unravel_index(np.argmax(RMSE_saved_in_each_iter_num), RMSE_saved_in_each_iter_num.shape)"
      ],
      "metadata": {
        "id": "HkX8PLDUSowk"
      },
      "execution_count": null,
      "outputs": []
    },
    {
      "cell_type": "code",
      "source": [
        "#finding idexes of the min and max of R2 matrix\n",
        "\n",
        "#converting to NumPy array\n",
        "R2_score_in_each_iter_num = np.array(R2_score_in_each_iter)\n",
        "\n",
        "min_index_R2 = np.unravel_index(np.argmin(R2_score_in_each_iter_num), R2_score_in_each_iter_num.shape)\n",
        "max_index_R2 = np.unravel_index(np.argmax(R2_score_in_each_iter_num), R2_score_in_each_iter_num.shape)"
      ],
      "metadata": {
        "id": "AyZNhUT3Sp8O"
      },
      "execution_count": null,
      "outputs": []
    },
    {
      "cell_type": "code",
      "source": [
        "print('Min RMSE: ', min_index_RMSE)\n",
        "print('Max RMSE: ', max_index_RMSE)\n",
        "print('Min R2: ', min_index_R2)\n",
        "print('Max R2: ', max_index_R2)"
      ],
      "metadata": {
        "id": "3ZpQ91IjSr-E",
        "colab": {
          "base_uri": "https://localhost:8080/"
        },
        "outputId": "cebe5141-c291-4f09-cd81-f8972b2484cc"
      },
      "execution_count": null,
      "outputs": [
        {
          "output_type": "stream",
          "name": "stdout",
          "text": [
            "Min RMSE:  (3, 3, 0)\n",
            "Max RMSE:  (0, 0, 0)\n",
            "Min R2:  (0, 0, 0)\n",
            "Max R2:  (3, 3, 0)\n"
          ]
        }
      ]
    },
    {
      "cell_type": "code",
      "source": [
        "RMSE_saved_in_each_iter_num[3][3][0]"
      ],
      "metadata": {
        "colab": {
          "base_uri": "https://localhost:8080/"
        },
        "id": "JQ1kU-rZv3t-",
        "outputId": "ce94f7cb-80ea-40a3-a166-881391143513"
      },
      "execution_count": null,
      "outputs": [
        {
          "output_type": "execute_result",
          "data": {
            "text/plain": [
              "156081.3823722964"
            ]
          },
          "metadata": {},
          "execution_count": 54
        }
      ]
    },
    {
      "cell_type": "markdown",
      "source": [
        "The model is severly underfitted for the simplest configuration (2 features, 2 degrees).\n",
        "\n",
        "The supposed best solution is the most complex configuration (7 features, 7 degrees)\n",
        "\n",
        "We will now test the best configuration on the testing dataset:"
      ],
      "metadata": {
        "id": "baEuh8qDSvEJ"
      }
    },
    {
      "cell_type": "code",
      "source": [
        "def CheckPerformanceTraining(degree_num, dataToChoose_num, random_state_main):\n",
        "  #Chcecking performance of the best configuration on the testing dataset\n",
        "\n",
        "  poly2 = PolynomialFeatures(degree=degree[degree_num], include_bias=True)\n",
        "\n",
        "  #fitting the data into a model and transforming it into a form that is more suitable for the model\n",
        "  poly_features = poly2.fit_transform(dataToChoose[dataToChoose_num])\n",
        "\n",
        "  #splitting the data\n",
        "  X_train, X_test, y_train, y_test = train_test_split(poly_features, y, test_size=0.2, random_state=random_state_main)\n",
        "  X1_train1, X1_validation, y1_train1, y1_validation = train_test_split(X_train, y_train, test_size = 0.3, random_state=random_state_main)\n",
        "\n",
        "  #creating and fitting the model\n",
        "  poly_reg_model = LinearRegression(fit_intercept=True)\n",
        "  poly_reg_model.fit(X_train, y_train)\n",
        "\n",
        "  #testing the results\n",
        "  poly_reg_y_predicted = poly_reg_model.predict(X_test)\n",
        "  poly_reg_rmse = np.sqrt(mean_squared_error(y_test, poly_reg_y_predicted))\n",
        "  r2_score_result=r2_score(poly_reg_y_predicted, y_test)\n",
        "  return poly_reg_rmse, r2_score_result"
      ],
      "metadata": {
        "id": "9ioE9es5e4oJ"
      },
      "execution_count": null,
      "outputs": []
    },
    {
      "cell_type": "code",
      "source": [
        "#testing 7,7 config\n",
        "result1, result2 = CheckPerformanceTraining(3, 3, 42)\n",
        "print(result1)\n",
        "print(result2)"
      ],
      "metadata": {
        "id": "w59bkUkBeOyL",
        "colab": {
          "base_uri": "https://localhost:8080/"
        },
        "outputId": "4eeb3b54-501e-4d67-d322-72db9f69c8a7"
      },
      "execution_count": null,
      "outputs": [
        {
          "output_type": "stream",
          "name": "stdout",
          "text": [
            "1688323.268359545\n",
            "0.02497213463777992\n"
          ]
        }
      ]
    },
    {
      "cell_type": "markdown",
      "source": [
        "The RMSE is significantly higher on the testing dataset, this indicates that overfitting occured.\n",
        "\n",
        "This result shows us the limitations of the Polynomial regression model. We are on the verge of overfitting the regressor if we continue to increase the degree of the polynomial.\n",
        "\n",
        "Therefore the best model is either 5 features, 7 degrees or 7 features, 5 degrees. We shall now see which of them produced better results on the validation dataset."
      ],
      "metadata": {
        "id": "-_F9lHgwTfe8"
      }
    },
    {
      "cell_type": "code",
      "source": [
        "#chechikng which is better\n",
        "\n",
        "print('RMSE f,d 5,7: ', RMSE_saved_in_each_iter[3][2][0])\n",
        "print('RMSE f,d 7,5: ', RMSE_saved_in_each_iter[2][3][0])\n",
        "print('R2 f,d 5,7: ', R2_score_in_each_iter[3][2][0])\n",
        "print('R2 f,d 5,7: ', R2_score_in_each_iter[2][3][0])"
      ],
      "metadata": {
        "id": "qW3RIRrnS0JO",
        "colab": {
          "base_uri": "https://localhost:8080/"
        },
        "outputId": "192b838a-67cd-4d4e-a8f2-ba4143836c2c"
      },
      "execution_count": null,
      "outputs": [
        {
          "output_type": "stream",
          "name": "stdout",
          "text": [
            "RMSE f,d 5,7:  198741.30078441233\n",
            "RMSE f,d 7,5:  200540.69179315073\n",
            "R2 f,d 5,7:  0.5842619590517424\n",
            "R2 f,d 5,7:  0.5745869027868751\n"
          ]
        }
      ]
    },
    {
      "cell_type": "markdown",
      "source": [
        "5 features and 7 degrees is our best solution, checking results on testing dataset"
      ],
      "metadata": {
        "id": "yr0V7tVSS7fJ"
      }
    },
    {
      "cell_type": "code",
      "source": [
        "#testing 5,7 config\n",
        "result1, result2 = CheckPerformanceTraining(2, 3, 42)\n",
        "print(result1)\n",
        "print(result2)\n"
      ],
      "metadata": {
        "id": "VxgYb8tU7usD",
        "colab": {
          "base_uri": "https://localhost:8080/"
        },
        "outputId": "11ce1701-9bcc-4757-f651-c2e732749778"
      },
      "execution_count": null,
      "outputs": [
        {
          "output_type": "stream",
          "name": "stdout",
          "text": [
            "200668.89321972686\n",
            "0.5570629705361692\n"
          ]
        }
      ]
    }
  ]
}